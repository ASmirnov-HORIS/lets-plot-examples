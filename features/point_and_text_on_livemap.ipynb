{
 "cells": [
  {
   "cell_type": "markdown",
   "metadata": {},
   "source": [
    "Available as executable or viewable Jupyter Notebook:\n",
    "\n",
    "[![Binder](https://mybinder.org/badge_logo.svg)](https://mybinder.org/v2/gh/HIL-HK/lets-plot-examples/master?filepath=features%2Fpoint_and_text_on_livemap.ipynb)"
   ]
  },
  {
   "cell_type": "code",
   "execution_count": null,
   "metadata": {},
   "outputs": [],
   "source": [
    "import pandas as pd\n",
    "\n",
    "from lets_plot import *\n",
    "LetsPlot.setup_html()\n",
    "\n",
    "# Let's use Wikimedia Maps provided by Wikimedia Foundation (https://foundation.wikimedia.org/wiki/Maps_Terms_of_Use) \n",
    "# as map tile server. Internet connection is required. \n",
    "\n",
    "LetsPlot.set(maptiles_zxy(url='https://maps.wikimedia.org/osm-intl/{z}/{x}/{y}@2x.png'))"
   ]
  },
  {
   "cell_type": "code",
   "execution_count": null,
   "metadata": {},
   "outputs": [],
   "source": [
    "x = [29.777834, 29.704789]\n",
    "y = [59.991666, 60.019055]"
   ]
  },
  {
   "cell_type": "code",
   "execution_count": null,
   "metadata": {},
   "outputs": [],
   "source": [
    "data = pd.DataFrame({'x': x, 'y': y, 'name': ['A', 'B']})\n",
    "\n",
    "labels = {\n",
    "    'lon': [29.723390],\n",
    "    'lat': [60.008983],\n",
    "    'label': ['Kotlin']\n",
    "}"
   ]
  },
  {
   "cell_type": "code",
   "execution_count": null,
   "metadata": {},
   "outputs": [],
   "source": [
    "ggplot(data) + ggtitle('Points and text on interactive map') + \\\n",
    "    geom_livemap(zoom=12) + \\\n",
    "    geom_point(aes(x='x', y='y', color='name'), shape=19, size=20, alpha=0.6) + \\\n",
    "    geom_text(aes(label='label', x='lon', y='lat'), data=labels, size=17, color='gray', \\\n",
    "                  family='serif', fontface='italic bold', hjust='middle', vjust='center', angle=30)"
   ]
  }
 ],
 "metadata": {
  "kernelspec": {
   "display_name": "Python 3",
   "language": "python",
   "name": "python3"
  },
  "language_info": {
   "codemirror_mode": {
    "name": "ipython",
    "version": 3
   },
   "file_extension": ".py",
   "mimetype": "text/x-python",
   "name": "python",
   "nbconvert_exporter": "python",
   "pygments_lexer": "ipython3",
   "version": "3.7.6"
  }
 },
 "nbformat": 4,
 "nbformat_minor": 1
}
